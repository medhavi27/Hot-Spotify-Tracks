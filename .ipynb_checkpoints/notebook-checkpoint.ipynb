{
 "cells": [
  {
   "cell_type": "code",
   "execution_count": 2,
   "metadata": {},
   "outputs": [],
   "source": [
    "using DataFrames, PyPlot, ScikitLearn, LowRankModels, CSV, LinearAlgebra"
   ]
  },
  {
   "cell_type": "code",
   "execution_count": 3,
   "metadata": {},
   "outputs": [
    {
     "data": {
      "text/plain": [
       "proxgrad_const"
      ]
     },
     "execution_count": 3,
     "metadata": {},
     "output_type": "execute_result"
    }
   ],
   "source": [
    "include(\"proxgrad.jl\")\n"
   ]
  },
  {
   "cell_type": "code",
   "execution_count": 4,
   "metadata": {},
   "outputs": [
    {
     "data": {
      "text/html": [
       "<table class=\"data-frame\"><thead><tr><th></th><th>Column1</th><th>danceability</th><th>energy</th><th>key</th><th>loudness</th><th>mode</th><th>speechiness</th><th>acousticness</th></tr><tr><th></th><th>Int64</th><th>Float64</th><th>Float64</th><th>Int64</th><th>Float64</th><th>Int64</th><th>Float64</th><th>Float64</th></tr></thead><tbody><p>147 rows × 15 columns (omitted printing of 7 columns)</p><tr><th>1</th><td>0</td><td>0.588</td><td>0.825</td><td>4</td><td>-5.882</td><td>1</td><td>0.0328</td><td>0.000197</td></tr><tr><th>2</th><td>1</td><td>0.602</td><td>0.896</td><td>1</td><td>-4.267</td><td>0</td><td>0.0437</td><td>0.0773</td></tr><tr><th>3</th><td>2</td><td>0.705</td><td>0.621</td><td>2</td><td>-8.086</td><td>1</td><td>0.0334</td><td>0.101</td></tr><tr><th>4</th><td>3</td><td>0.622</td><td>0.469</td><td>3</td><td>-6.798</td><td>0</td><td>0.0363</td><td>0.00454</td></tr><tr><th>5</th><td>4</td><td>0.602</td><td>0.609</td><td>0</td><td>-7.803</td><td>1</td><td>0.0243</td><td>0.0382</td></tr><tr><th>6</th><td>5</td><td>0.658</td><td>0.729</td><td>7</td><td>-6.561</td><td>1</td><td>0.0378</td><td>0.00215</td></tr><tr><th>7</th><td>6</td><td>0.567</td><td>0.481</td><td>4</td><td>-7.357</td><td>1</td><td>0.027</td><td>0.0173</td></tr><tr><th>8</th><td>7</td><td>0.628</td><td>0.676</td><td>7</td><td>-5.911</td><td>1</td><td>0.0916</td><td>0.00957</td></tr><tr><th>9</th><td>8</td><td>0.729</td><td>0.748</td><td>0</td><td>-6.67</td><td>1</td><td>0.0245</td><td>0.307</td></tr><tr><th>10</th><td>9</td><td>0.505</td><td>0.443</td><td>2</td><td>-7.039</td><td>1</td><td>0.0276</td><td>0.035</td></tr><tr><th>11</th><td>10</td><td>0.627</td><td>0.816</td><td>4</td><td>-6.698</td><td>1</td><td>0.0774</td><td>0.0162</td></tr><tr><th>12</th><td>11</td><td>0.624</td><td>0.34</td><td>7</td><td>-12.411</td><td>1</td><td>0.029</td><td>0.632</td></tr><tr><th>13</th><td>12</td><td>0.706</td><td>0.499</td><td>4</td><td>-7.675</td><td>1</td><td>0.0369</td><td>0.0371</td></tr><tr><th>14</th><td>13</td><td>0.624</td><td>0.458</td><td>6</td><td>-6.755</td><td>1</td><td>0.0287</td><td>0.36</td></tr><tr><th>15</th><td>14</td><td>0.649</td><td>0.777</td><td>9</td><td>-5.804</td><td>1</td><td>0.0406</td><td>0.0213</td></tr><tr><th>16</th><td>15</td><td>0.53</td><td>0.526</td><td>7</td><td>-8.349</td><td>1</td><td>0.0263</td><td>0.199</td></tr><tr><th>17</th><td>16</td><td>0.683</td><td>0.627</td><td>6</td><td>-5.473</td><td>1</td><td>0.0345</td><td>0.265</td></tr><tr><th>18</th><td>17</td><td>0.624</td><td>0.757</td><td>7</td><td>-2.94</td><td>1</td><td>0.0296</td><td>0.00265</td></tr><tr><th>19</th><td>18</td><td>0.605</td><td>0.787</td><td>5</td><td>-3.002</td><td>1</td><td>0.0308</td><td>0.0396</td></tr><tr><th>20</th><td>19</td><td>0.529</td><td>0.67</td><td>2</td><td>-4.663</td><td>1</td><td>0.0303</td><td>0.117</td></tr><tr><th>21</th><td>20</td><td>0.709</td><td>0.599</td><td>7</td><td>-3.734</td><td>1</td><td>0.0304</td><td>0.095</td></tr><tr><th>22</th><td>21</td><td>0.589</td><td>0.47</td><td>4</td><td>-5.32</td><td>1</td><td>0.028</td><td>0.166</td></tr><tr><th>23</th><td>22</td><td>0.568</td><td>0.761</td><td>4</td><td>-3.987</td><td>1</td><td>0.0459</td><td>0.452</td></tr><tr><th>24</th><td>23</td><td>0.543</td><td>0.818</td><td>4</td><td>-3.611</td><td>1</td><td>0.0398</td><td>0.00478</td></tr><tr><th>25</th><td>24</td><td>0.714</td><td>0.305</td><td>2</td><td>-8.837</td><td>1</td><td>0.0305</td><td>0.819</td></tr><tr><th>26</th><td>25</td><td>0.455</td><td>0.623</td><td>8</td><td>-3.878</td><td>1</td><td>0.0288</td><td>0.0739</td></tr><tr><th>27</th><td>26</td><td>0.516</td><td>0.917</td><td>11</td><td>-3.186</td><td>0</td><td>0.0827</td><td>0.0139</td></tr><tr><th>28</th><td>27</td><td>0.552</td><td>0.608</td><td>1</td><td>-5.29</td><td>0</td><td>0.0259</td><td>0.186</td></tr><tr><th>29</th><td>28</td><td>0.436</td><td>0.95</td><td>5</td><td>-2.627</td><td>1</td><td>0.057</td><td>0.0826</td></tr><tr><th>30</th><td>29</td><td>0.371</td><td>0.341</td><td>10</td><td>-9.475</td><td>1</td><td>0.0319</td><td>0.57</td></tr><tr><th>&vellip;</th><td>&vellip;</td><td>&vellip;</td><td>&vellip;</td><td>&vellip;</td><td>&vellip;</td><td>&vellip;</td><td>&vellip;</td><td>&vellip;</td></tr></tbody></table>"
      ],
      "text/latex": [
       "\\begin{tabular}{r|ccccccccc}\n",
       "\t& Column1 & danceability & energy & key & loudness & mode & speechiness & acousticness & \\\\\n",
       "\t\\hline\n",
       "\t& Int64 & Float64 & Float64 & Int64 & Float64 & Int64 & Float64 & Float64 & \\\\\n",
       "\t\\hline\n",
       "\t1 & 0 & 0.588 & 0.825 & 4 & -5.882 & 1 & 0.0328 & 0.000197 & $\\dots$ \\\\\n",
       "\t2 & 1 & 0.602 & 0.896 & 1 & -4.267 & 0 & 0.0437 & 0.0773 & $\\dots$ \\\\\n",
       "\t3 & 2 & 0.705 & 0.621 & 2 & -8.086 & 1 & 0.0334 & 0.101 & $\\dots$ \\\\\n",
       "\t4 & 3 & 0.622 & 0.469 & 3 & -6.798 & 0 & 0.0363 & 0.00454 & $\\dots$ \\\\\n",
       "\t5 & 4 & 0.602 & 0.609 & 0 & -7.803 & 1 & 0.0243 & 0.0382 & $\\dots$ \\\\\n",
       "\t6 & 5 & 0.658 & 0.729 & 7 & -6.561 & 1 & 0.0378 & 0.00215 & $\\dots$ \\\\\n",
       "\t7 & 6 & 0.567 & 0.481 & 4 & -7.357 & 1 & 0.027 & 0.0173 & $\\dots$ \\\\\n",
       "\t8 & 7 & 0.628 & 0.676 & 7 & -5.911 & 1 & 0.0916 & 0.00957 & $\\dots$ \\\\\n",
       "\t9 & 8 & 0.729 & 0.748 & 0 & -6.67 & 1 & 0.0245 & 0.307 & $\\dots$ \\\\\n",
       "\t10 & 9 & 0.505 & 0.443 & 2 & -7.039 & 1 & 0.0276 & 0.035 & $\\dots$ \\\\\n",
       "\t11 & 10 & 0.627 & 0.816 & 4 & -6.698 & 1 & 0.0774 & 0.0162 & $\\dots$ \\\\\n",
       "\t12 & 11 & 0.624 & 0.34 & 7 & -12.411 & 1 & 0.029 & 0.632 & $\\dots$ \\\\\n",
       "\t13 & 12 & 0.706 & 0.499 & 4 & -7.675 & 1 & 0.0369 & 0.0371 & $\\dots$ \\\\\n",
       "\t14 & 13 & 0.624 & 0.458 & 6 & -6.755 & 1 & 0.0287 & 0.36 & $\\dots$ \\\\\n",
       "\t15 & 14 & 0.649 & 0.777 & 9 & -5.804 & 1 & 0.0406 & 0.0213 & $\\dots$ \\\\\n",
       "\t16 & 15 & 0.53 & 0.526 & 7 & -8.349 & 1 & 0.0263 & 0.199 & $\\dots$ \\\\\n",
       "\t17 & 16 & 0.683 & 0.627 & 6 & -5.473 & 1 & 0.0345 & 0.265 & $\\dots$ \\\\\n",
       "\t18 & 17 & 0.624 & 0.757 & 7 & -2.94 & 1 & 0.0296 & 0.00265 & $\\dots$ \\\\\n",
       "\t19 & 18 & 0.605 & 0.787 & 5 & -3.002 & 1 & 0.0308 & 0.0396 & $\\dots$ \\\\\n",
       "\t20 & 19 & 0.529 & 0.67 & 2 & -4.663 & 1 & 0.0303 & 0.117 & $\\dots$ \\\\\n",
       "\t21 & 20 & 0.709 & 0.599 & 7 & -3.734 & 1 & 0.0304 & 0.095 & $\\dots$ \\\\\n",
       "\t22 & 21 & 0.589 & 0.47 & 4 & -5.32 & 1 & 0.028 & 0.166 & $\\dots$ \\\\\n",
       "\t23 & 22 & 0.568 & 0.761 & 4 & -3.987 & 1 & 0.0459 & 0.452 & $\\dots$ \\\\\n",
       "\t24 & 23 & 0.543 & 0.818 & 4 & -3.611 & 1 & 0.0398 & 0.00478 & $\\dots$ \\\\\n",
       "\t25 & 24 & 0.714 & 0.305 & 2 & -8.837 & 1 & 0.0305 & 0.819 & $\\dots$ \\\\\n",
       "\t26 & 25 & 0.455 & 0.623 & 8 & -3.878 & 1 & 0.0288 & 0.0739 & $\\dots$ \\\\\n",
       "\t27 & 26 & 0.516 & 0.917 & 11 & -3.186 & 0 & 0.0827 & 0.0139 & $\\dots$ \\\\\n",
       "\t28 & 27 & 0.552 & 0.608 & 1 & -5.29 & 0 & 0.0259 & 0.186 & $\\dots$ \\\\\n",
       "\t29 & 28 & 0.436 & 0.95 & 5 & -2.627 & 1 & 0.057 & 0.0826 & $\\dots$ \\\\\n",
       "\t30 & 29 & 0.371 & 0.341 & 10 & -9.475 & 1 & 0.0319 & 0.57 & $\\dots$ \\\\\n",
       "\t$\\dots$ & $\\dots$ & $\\dots$ & $\\dots$ & $\\dots$ & $\\dots$ & $\\dots$ & $\\dots$ & $\\dots$ &  \\\\\n",
       "\\end{tabular}\n"
      ],
      "text/plain": [
       "147×15 DataFrame. Omitted printing of 9 columns\n",
       "│ Row │ Column1 │ danceability │ energy  │ key   │ loudness │ mode  │\n",
       "│     │ \u001b[90mInt64\u001b[39m   │ \u001b[90mFloat64\u001b[39m      │ \u001b[90mFloat64\u001b[39m │ \u001b[90mInt64\u001b[39m │ \u001b[90mFloat64\u001b[39m  │ \u001b[90mInt64\u001b[39m │\n",
       "├─────┼─────────┼──────────────┼─────────┼───────┼──────────┼───────┤\n",
       "│ 1   │ 0       │ 0.588        │ 0.825   │ 4     │ -5.882   │ 1     │\n",
       "│ 2   │ 1       │ 0.602        │ 0.896   │ 1     │ -4.267   │ 0     │\n",
       "│ 3   │ 2       │ 0.705        │ 0.621   │ 2     │ -8.086   │ 1     │\n",
       "│ 4   │ 3       │ 0.622        │ 0.469   │ 3     │ -6.798   │ 0     │\n",
       "│ 5   │ 4       │ 0.602        │ 0.609   │ 0     │ -7.803   │ 1     │\n",
       "│ 6   │ 5       │ 0.658        │ 0.729   │ 7     │ -6.561   │ 1     │\n",
       "│ 7   │ 6       │ 0.567        │ 0.481   │ 4     │ -7.357   │ 1     │\n",
       "│ 8   │ 7       │ 0.628        │ 0.676   │ 7     │ -5.911   │ 1     │\n",
       "│ 9   │ 8       │ 0.729        │ 0.748   │ 0     │ -6.67    │ 1     │\n",
       "│ 10  │ 9       │ 0.505        │ 0.443   │ 2     │ -7.039   │ 1     │\n",
       "⋮\n",
       "│ 137 │ 136     │ 0.811        │ 0.719   │ 9     │ -6.553   │ 1     │\n",
       "│ 138 │ 137     │ 0.824        │ 0.624   │ 0     │ -9.728   │ 1     │\n",
       "│ 139 │ 138     │ 0.712        │ 0.732   │ 4     │ -6.754   │ 1     │\n",
       "│ 140 │ 139     │ 0.695        │ 0.71    │ 1     │ -6.639   │ 1     │\n",
       "│ 141 │ 140     │ 0.433        │ 0.182   │ 0     │ -12.566  │ 1     │\n",
       "│ 142 │ 141     │ 0.739        │ 0.32    │ 11    │ -10.862  │ 0     │\n",
       "│ 143 │ 142     │ 0.771        │ 0.671   │ 2     │ -5.617   │ 1     │\n",
       "│ 144 │ 143     │ 0.756        │ 0.449   │ 9     │ -8.746   │ 1     │\n",
       "│ 145 │ 144     │ 0.61         │ 0.83    │ 0     │ -4.105   │ 1     │\n",
       "│ 146 │ 145     │ 0.737        │ 0.175   │ 10    │ -9.912   │ 1     │\n",
       "│ 147 │ 146     │ 0.557        │ 0.496   │ 0     │ -9.602   │ 1     │"
      ]
     },
     "execution_count": 4,
     "metadata": {},
     "output_type": "execute_result"
    }
   ],
   "source": [
    "taylor = CSV.read(\"data/taylor.csv\")\n"
   ]
  },
  {
   "cell_type": "code",
   "execution_count": 5,
   "metadata": {},
   "outputs": [
    {
     "data": {
      "text/html": [
       "<table class=\"data-frame\"><thead><tr><th></th><th>Column1</th><th>danceability</th><th>energy</th><th>key</th><th>loudness</th><th>mode</th><th>speechiness</th><th>acousticness</th></tr><tr><th></th><th>Int64</th><th>Float64</th><th>Float64</th><th>Int64</th><th>Float64</th><th>Int64</th><th>Float64</th><th>Float64</th></tr></thead><tbody><p>354 rows × 15 columns (omitted printing of 7 columns)</p><tr><th>1</th><td>0</td><td>0.373</td><td>0.56</td><td>9</td><td>-7.615</td><td>0</td><td>0.0448</td><td>0.132</td></tr><tr><th>2</th><td>1</td><td>0.703</td><td>0.699</td><td>2</td><td>-7.322</td><td>1</td><td>0.044</td><td>0.00113</td></tr><tr><th>3</th><td>2</td><td>0.442</td><td>0.421</td><td>2</td><td>-11.455</td><td>1</td><td>0.137</td><td>0.376</td></tr><tr><th>4</th><td>3</td><td>0.581</td><td>0.673</td><td>7</td><td>-7.111</td><td>1</td><td>0.162</td><td>0.032</td></tr><tr><th>5</th><td>4</td><td>0.785</td><td>0.633</td><td>7</td><td>-8.223</td><td>1</td><td>0.169</td><td>0.0259</td></tr><tr><th>6</th><td>5</td><td>0.62</td><td>0.722</td><td>1</td><td>-7.022</td><td>1</td><td>0.322</td><td>0.0733</td></tr><tr><th>7</th><td>6</td><td>0.66</td><td>0.311</td><td>0</td><td>-8.681</td><td>1</td><td>0.113</td><td>0.625</td></tr><tr><th>8</th><td>7</td><td>0.872</td><td>0.407</td><td>1</td><td>-10.036</td><td>1</td><td>0.256</td><td>0.152</td></tr><tr><th>9</th><td>8</td><td>0.536</td><td>0.446</td><td>1</td><td>-10.489</td><td>1</td><td>0.162</td><td>0.104</td></tr><tr><th>10</th><td>9</td><td>0.834</td><td>0.438</td><td>0</td><td>-9.577</td><td>1</td><td>0.152</td><td>0.0212</td></tr><tr><th>11</th><td>10</td><td>0.607</td><td>0.476</td><td>10</td><td>-11.076</td><td>0</td><td>0.249</td><td>0.0773</td></tr><tr><th>12</th><td>11</td><td>0.791</td><td>0.619</td><td>1</td><td>-5.886</td><td>1</td><td>0.0532</td><td>0.00784</td></tr><tr><th>13</th><td>12</td><td>0.711</td><td>0.44</td><td>1</td><td>-9.509</td><td>1</td><td>0.471</td><td>0.00175</td></tr><tr><th>14</th><td>13</td><td>0.691</td><td>0.482</td><td>1</td><td>-11.14</td><td>1</td><td>0.231</td><td>0.0173</td></tr><tr><th>15</th><td>14</td><td>0.724</td><td>0.456</td><td>7</td><td>-10.009</td><td>1</td><td>0.127</td><td>0.215</td></tr><tr><th>16</th><td>15</td><td>0.804</td><td>0.648</td><td>7</td><td>-7.805</td><td>1</td><td>0.117</td><td>0.0573</td></tr><tr><th>17</th><td>16</td><td>0.687</td><td>0.267</td><td>4</td><td>-8.818</td><td>0</td><td>0.0297</td><td>0.372</td></tr><tr><th>18</th><td>17</td><td>0.709</td><td>0.259</td><td>1</td><td>-14.341</td><td>0</td><td>0.0892</td><td>0.0803</td></tr><tr><th>19</th><td>18</td><td>0.446</td><td>0.871</td><td>5</td><td>-5.837</td><td>1</td><td>0.367</td><td>0.07</td></tr><tr><th>20</th><td>19</td><td>0.903</td><td>0.62</td><td>2</td><td>-8.094</td><td>1</td><td>0.0587</td><td>0.00347</td></tr><tr><th>21</th><td>20</td><td>0.889</td><td>0.543</td><td>2</td><td>-7.666</td><td>1</td><td>0.128</td><td>0.00311</td></tr><tr><th>22</th><td>21</td><td>0.769</td><td>0.676</td><td>8</td><td>-6.48</td><td>0</td><td>0.277</td><td>0.00179</td></tr><tr><th>23</th><td>22</td><td>0.885</td><td>0.485</td><td>4</td><td>-8.491</td><td>0</td><td>0.24</td><td>0.0335</td></tr><tr><th>24</th><td>23</td><td>0.522</td><td>0.362</td><td>1</td><td>-10.827</td><td>1</td><td>0.048</td><td>0.139</td></tr><tr><th>25</th><td>24</td><td>0.511</td><td>0.416</td><td>0</td><td>-9.203</td><td>0</td><td>0.384</td><td>0.0931</td></tr><tr><th>26</th><td>25</td><td>0.84</td><td>0.477</td><td>1</td><td>-6.599</td><td>1</td><td>0.325</td><td>0.0106</td></tr><tr><th>27</th><td>26</td><td>0.842</td><td>0.519</td><td>0</td><td>-9.255</td><td>1</td><td>0.223</td><td>0.000394</td></tr><tr><th>28</th><td>27</td><td>0.804</td><td>0.334</td><td>0</td><td>-10.135</td><td>1</td><td>0.385</td><td>0.0204</td></tr><tr><th>29</th><td>28</td><td>0.853</td><td>0.558</td><td>1</td><td>-7.448</td><td>1</td><td>0.202</td><td>0.0462</td></tr><tr><th>30</th><td>29</td><td>0.757</td><td>0.528</td><td>0</td><td>-10.799</td><td>0</td><td>0.274</td><td>0.511</td></tr><tr><th>&vellip;</th><td>&vellip;</td><td>&vellip;</td><td>&vellip;</td><td>&vellip;</td><td>&vellip;</td><td>&vellip;</td><td>&vellip;</td><td>&vellip;</td></tr></tbody></table>"
      ],
      "text/latex": [
       "\\begin{tabular}{r|ccccccccc}\n",
       "\t& Column1 & danceability & energy & key & loudness & mode & speechiness & acousticness & \\\\\n",
       "\t\\hline\n",
       "\t& Int64 & Float64 & Float64 & Int64 & Float64 & Int64 & Float64 & Float64 & \\\\\n",
       "\t\\hline\n",
       "\t1 & 0 & 0.373 & 0.56 & 9 & -7.615 & 0 & 0.0448 & 0.132 & $\\dots$ \\\\\n",
       "\t2 & 1 & 0.703 & 0.699 & 2 & -7.322 & 1 & 0.044 & 0.00113 & $\\dots$ \\\\\n",
       "\t3 & 2 & 0.442 & 0.421 & 2 & -11.455 & 1 & 0.137 & 0.376 & $\\dots$ \\\\\n",
       "\t4 & 3 & 0.581 & 0.673 & 7 & -7.111 & 1 & 0.162 & 0.032 & $\\dots$ \\\\\n",
       "\t5 & 4 & 0.785 & 0.633 & 7 & -8.223 & 1 & 0.169 & 0.0259 & $\\dots$ \\\\\n",
       "\t6 & 5 & 0.62 & 0.722 & 1 & -7.022 & 1 & 0.322 & 0.0733 & $\\dots$ \\\\\n",
       "\t7 & 6 & 0.66 & 0.311 & 0 & -8.681 & 1 & 0.113 & 0.625 & $\\dots$ \\\\\n",
       "\t8 & 7 & 0.872 & 0.407 & 1 & -10.036 & 1 & 0.256 & 0.152 & $\\dots$ \\\\\n",
       "\t9 & 8 & 0.536 & 0.446 & 1 & -10.489 & 1 & 0.162 & 0.104 & $\\dots$ \\\\\n",
       "\t10 & 9 & 0.834 & 0.438 & 0 & -9.577 & 1 & 0.152 & 0.0212 & $\\dots$ \\\\\n",
       "\t11 & 10 & 0.607 & 0.476 & 10 & -11.076 & 0 & 0.249 & 0.0773 & $\\dots$ \\\\\n",
       "\t12 & 11 & 0.791 & 0.619 & 1 & -5.886 & 1 & 0.0532 & 0.00784 & $\\dots$ \\\\\n",
       "\t13 & 12 & 0.711 & 0.44 & 1 & -9.509 & 1 & 0.471 & 0.00175 & $\\dots$ \\\\\n",
       "\t14 & 13 & 0.691 & 0.482 & 1 & -11.14 & 1 & 0.231 & 0.0173 & $\\dots$ \\\\\n",
       "\t15 & 14 & 0.724 & 0.456 & 7 & -10.009 & 1 & 0.127 & 0.215 & $\\dots$ \\\\\n",
       "\t16 & 15 & 0.804 & 0.648 & 7 & -7.805 & 1 & 0.117 & 0.0573 & $\\dots$ \\\\\n",
       "\t17 & 16 & 0.687 & 0.267 & 4 & -8.818 & 0 & 0.0297 & 0.372 & $\\dots$ \\\\\n",
       "\t18 & 17 & 0.709 & 0.259 & 1 & -14.341 & 0 & 0.0892 & 0.0803 & $\\dots$ \\\\\n",
       "\t19 & 18 & 0.446 & 0.871 & 5 & -5.837 & 1 & 0.367 & 0.07 & $\\dots$ \\\\\n",
       "\t20 & 19 & 0.903 & 0.62 & 2 & -8.094 & 1 & 0.0587 & 0.00347 & $\\dots$ \\\\\n",
       "\t21 & 20 & 0.889 & 0.543 & 2 & -7.666 & 1 & 0.128 & 0.00311 & $\\dots$ \\\\\n",
       "\t22 & 21 & 0.769 & 0.676 & 8 & -6.48 & 0 & 0.277 & 0.00179 & $\\dots$ \\\\\n",
       "\t23 & 22 & 0.885 & 0.485 & 4 & -8.491 & 0 & 0.24 & 0.0335 & $\\dots$ \\\\\n",
       "\t24 & 23 & 0.522 & 0.362 & 1 & -10.827 & 1 & 0.048 & 0.139 & $\\dots$ \\\\\n",
       "\t25 & 24 & 0.511 & 0.416 & 0 & -9.203 & 0 & 0.384 & 0.0931 & $\\dots$ \\\\\n",
       "\t26 & 25 & 0.84 & 0.477 & 1 & -6.599 & 1 & 0.325 & 0.0106 & $\\dots$ \\\\\n",
       "\t27 & 26 & 0.842 & 0.519 & 0 & -9.255 & 1 & 0.223 & 0.000394 & $\\dots$ \\\\\n",
       "\t28 & 27 & 0.804 & 0.334 & 0 & -10.135 & 1 & 0.385 & 0.0204 & $\\dots$ \\\\\n",
       "\t29 & 28 & 0.853 & 0.558 & 1 & -7.448 & 1 & 0.202 & 0.0462 & $\\dots$ \\\\\n",
       "\t30 & 29 & 0.757 & 0.528 & 0 & -10.799 & 0 & 0.274 & 0.511 & $\\dots$ \\\\\n",
       "\t$\\dots$ & $\\dots$ & $\\dots$ & $\\dots$ & $\\dots$ & $\\dots$ & $\\dots$ & $\\dots$ & $\\dots$ &  \\\\\n",
       "\\end{tabular}\n"
      ],
      "text/plain": [
       "354×15 DataFrame. Omitted printing of 9 columns\n",
       "│ Row │ Column1 │ danceability │ energy  │ key   │ loudness │ mode  │\n",
       "│     │ \u001b[90mInt64\u001b[39m   │ \u001b[90mFloat64\u001b[39m      │ \u001b[90mFloat64\u001b[39m │ \u001b[90mInt64\u001b[39m │ \u001b[90mFloat64\u001b[39m  │ \u001b[90mInt64\u001b[39m │\n",
       "├─────┼─────────┼──────────────┼─────────┼───────┼──────────┼───────┤\n",
       "│ 1   │ 0       │ 0.373        │ 0.56    │ 9     │ -7.615   │ 0     │\n",
       "│ 2   │ 1       │ 0.703        │ 0.699   │ 2     │ -7.322   │ 1     │\n",
       "│ 3   │ 2       │ 0.442        │ 0.421   │ 2     │ -11.455  │ 1     │\n",
       "│ 4   │ 3       │ 0.581        │ 0.673   │ 7     │ -7.111   │ 1     │\n",
       "│ 5   │ 4       │ 0.785        │ 0.633   │ 7     │ -8.223   │ 1     │\n",
       "│ 6   │ 5       │ 0.62         │ 0.722   │ 1     │ -7.022   │ 1     │\n",
       "│ 7   │ 6       │ 0.66         │ 0.311   │ 0     │ -8.681   │ 1     │\n",
       "│ 8   │ 7       │ 0.872        │ 0.407   │ 1     │ -10.036  │ 1     │\n",
       "│ 9   │ 8       │ 0.536        │ 0.446   │ 1     │ -10.489  │ 1     │\n",
       "│ 10  │ 9       │ 0.834        │ 0.438   │ 0     │ -9.577   │ 1     │\n",
       "⋮\n",
       "│ 344 │ 343     │ 0.508        │ 0.748   │ 1     │ -4.997   │ 1     │\n",
       "│ 345 │ 344     │ 0.641        │ 0.454   │ 5     │ -8.344   │ 0     │\n",
       "│ 346 │ 345     │ 0.619        │ 0.489   │ 11    │ -11.25   │ 0     │\n",
       "│ 347 │ 346     │ 0.505        │ 0.494   │ 10    │ -8.635   │ 0     │\n",
       "│ 348 │ 347     │ 0.643        │ 0.178   │ 4     │ -8.56    │ 0     │\n",
       "│ 349 │ 348     │ 0.915        │ 0.588   │ 7     │ -6.302   │ 0     │\n",
       "│ 350 │ 349     │ 0.806        │ 0.558   │ 8     │ -6.538   │ 1     │\n",
       "│ 351 │ 350     │ 0.866        │ 0.53    │ 0     │ -6.347   │ 0     │\n",
       "│ 352 │ 351     │ 0.576        │ 0.524   │ 6     │ -5.428   │ 1     │\n",
       "│ 353 │ 352     │ 0.854        │ 0.554   │ 8     │ -4.684   │ 1     │\n",
       "│ 354 │ 353     │ 0.564        │ 0.929   │ 1     │ -3.839   │ 1     │"
      ]
     },
     "execution_count": 5,
     "metadata": {},
     "output_type": "execute_result"
    }
   ],
   "source": [
    "drake= CSV.read(\"data/drake.csv\")"
   ]
  },
  {
   "cell_type": "code",
   "execution_count": 6,
   "metadata": {},
   "outputs": [
    {
     "name": "stderr",
     "output_type": "stream",
     "text": [
      "┌ Warning: `getindex(df::DataFrame, col_inds::Union{AbstractVector, Regex, Not})` is deprecated, use `df[:, col_inds]` instead.\n",
      "│   caller = top-level scope at In[6]:2\n",
      "└ @ Core In[6]:2\n"
     ]
    },
    {
     "data": {
      "text/plain": [
       "3.095438496658177e13"
      ]
     },
     "execution_count": 6,
     "metadata": {},
     "output_type": "execute_result"
    }
   ],
   "source": [
    "y = convert(Array{Float64,1}, drake[:,15])\n",
    "x = convert(Array{Float64,2}, drake[1:14])\n",
    "loss = OrdinalHingeLoss()\n",
    "\n",
    "λ = .1\n",
    "reg = λ*QuadReg()\n",
    "\n",
    "# minimize 1/n ||Xw - y||^2 + λ||w||^2\n",
    "#w = proxgrad(loss, reg, X, y, maxiters=5, c=.1, stepsize=1, max_inner_iters=10000) \n",
    "w = proxgrad(loss, reg, x, y, stepsize=1, maxiters=5)\n",
    "\n",
    "norm(x*w-y) / norm(y)"
   ]
  },
  {
   "cell_type": "code",
   "execution_count": 7,
   "metadata": {},
   "outputs": [
    {
     "ename": "MethodError",
     "evalue": "MethodError: no method matching evaluate(::BvSLoss, ::Array{Float64,1}, ::Float64)\nClosest candidates are:\n  evaluate(::BvSLoss, ::Array{Float64,1}, !Matched::Int64) at /Users/medhavi/.julia/packages/LowRankModels/u9DCY/src/losses.jl:477\n  evaluate(::Loss, ::Array{Float64,1}, !Matched::AbstractArray{T,1} where T) at /Users/medhavi/.julia/packages/LowRankModels/u9DCY/src/losses.jl:640\n  evaluate(!Matched::MultinomialLoss, ::Array{Float64,1}, !Matched::Int64) at /Users/medhavi/.julia/packages/LowRankModels/u9DCY/src/losses.jl:373\n  ...",
     "output_type": "error",
     "traceback": [
      "MethodError: no method matching evaluate(::BvSLoss, ::Array{Float64,1}, ::Float64)\nClosest candidates are:\n  evaluate(::BvSLoss, ::Array{Float64,1}, !Matched::Int64) at /Users/medhavi/.julia/packages/LowRankModels/u9DCY/src/losses.jl:477\n  evaluate(::Loss, ::Array{Float64,1}, !Matched::AbstractArray{T,1} where T) at /Users/medhavi/.julia/packages/LowRankModels/u9DCY/src/losses.jl:640\n  evaluate(!Matched::MultinomialLoss, ::Array{Float64,1}, !Matched::Int64) at /Users/medhavi/.julia/packages/LowRankModels/u9DCY/src/losses.jl:373\n  ...",
      "",
      "Stacktrace:",
      " [1] evaluate(::BvSLoss, ::Array{Float64,2}, ::Array{Float64,1}) at /Users/medhavi/.julia/packages/LowRankModels/u9DCY/src/losses.jl:663",
      " [2] evaluate at /Users/medhavi/Hot-Spotify-Tracks/proxgrad.jl:8 [inlined]",
      " [3] #proxgrad_linesearch#4(::Int64, ::Int64, ::Float64, ::Array{Float64,2}, ::ConvergenceHistory, ::typeof(proxgrad_linesearch), ::BvSLoss, ::ZeroReg, ::Array{Float64,2}, ::Array{Float64,1}) at /Users/medhavi/Hot-Spotify-Tracks/proxgrad.jl:24",
      " [4] (::getfield(Main, Symbol(\"#kw##proxgrad_linesearch\")))(::NamedTuple{(:stepsize, :maxiters),Tuple{Int64,Int64}}, ::typeof(proxgrad_linesearch), ::BvSLoss, ::ZeroReg, ::Array{Float64,2}, ::Array{Float64,1}) at ./none:0",
      " [5] #proxgrad#3(::Base.Iterators.Pairs{Symbol,Int64,Tuple{Symbol,Symbol},NamedTuple{(:stepsize, :maxiters),Tuple{Int64,Int64}}}, ::typeof(proxgrad), ::BvSLoss, ::ZeroReg, ::Vararg{Any,N} where N) at /Users/medhavi/Hot-Spotify-Tracks/proxgrad.jl:14",
      " [6] (::getfield(Main, Symbol(\"#kw##proxgrad\")))(::NamedTuple{(:stepsize, :maxiters),Tuple{Int64,Int64}}, ::typeof(proxgrad), ::BvSLoss, ::ZeroReg, ::Vararg{Any,N} where N) at ./none:0",
      " [7] top-level scope at In[7]:4"
     ]
    }
   ],
   "source": [
    "# n=60\n",
    "Xoffset = [x ones(354)]\n",
    "loss = BvSLoss(4, bin_loss=LogisticLoss())\n",
    "# mul!(loss, 1/n)\n",
    "w_bvs = proxgrad(loss, ZeroReg(), Xoffset, y, stepsize=1, maxiters=5000)\n",
    "@show w_bvs\n",
    "\n",
    "# plot the fit\n",
    "p=plot_ord_data()\n",
    "for i=1:3\n",
    "    plotline!(w_bvs[1:2,i], w_bvs[3,i], color=plotcolor[i], label=\"<=$i vs >$i\")\n",
    "end\n",
    "ntest = 50\n",
    "Xtest = [5*rand(ntest,2) ones(ntest)]\n",
    "plot_imputed!(loss, Xtest, w_bvs, plotcolor, plotshape)\n",
    "# savefig(\"bvs_zeroreg.pdf\")\n",
    "p"
   ]
  },
  {
   "cell_type": "code",
   "execution_count": null,
   "metadata": {},
   "outputs": [],
   "source": []
  }
 ],
 "metadata": {
  "kernelspec": {
   "display_name": "Julia 1.2.0",
   "language": "julia",
   "name": "julia-1.2"
  },
  "language_info": {
   "file_extension": ".jl",
   "mimetype": "application/julia",
   "name": "julia",
   "version": "1.2.0"
  }
 },
 "nbformat": 4,
 "nbformat_minor": 2
}
